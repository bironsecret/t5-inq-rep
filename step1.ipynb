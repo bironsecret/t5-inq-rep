{
 "cells": [
  {
   "cell_type": "code",
   "source": [
    "!git clone https://github.com/patil-suraj/question_generation.git"
   ],
   "metadata": {
    "collapsed": false,
    "pycharm": {
     "name": "#%%\n"
    }
   },
   "execution_count": null,
   "outputs": []
  },
  {
   "cell_type": "code",
   "source": [
    "#to prepare data use:\n",
    "!prepare_data.py --task qg --model_type t5 --dataset_path data/inquisitive_qg/ --qg_format plain_text --max_source_length 512 --max_target_length 32 --train_file_name train_data_inquisitive_qg.pt --valid_file_name valid_data_inquisitive_qg.pt\n",
    "\n",
    "#to fine-tune using a command, use:\n",
    "!python run_qg.py --model_name_or_path t5-small --model_type t5 --tokenizer_name_or_path t5_qg_tokenizer --output_dir t5-small-qg-inqds --train_file_path data/train_data_inquisitive_qg.pt --valid_file_path data/valid_data_inquisitive_qg.pt --per_device_train_batch_size 16 --per_device_eval_batch_size 16 --gradient_accumulation_steps 16 --learning_rate 1e-4 --num_train_epochs 15 --seed 42 --do_train --do_eval --logging_steps 100\n",
    "\n",
    "#to eval with a command, use:\n",
    "!python eval.py --model_name_or_path t5-small-qg-inqds --valid_file_path t5-small-qg-inqds\\checkpoint-1500\\pytorch_model.bin --model_type t5 --num_beams 4 --max_decoding_length 32 --output_path result_metrics.txt --tokenizer_name_or_path t5_qg_tokenizer --valid_file_path data\\valid_data_qg_hl_t5.pt\n",
    "#dont forget to replace 1500 with your checkpoint number\n",
    "\n",
    "\n",
    "#to do the metrics, do:\n",
    "!nlg-eval --hypothesis=result_metrics.txt --references=data/references.txt --no-skipthoughts --no-glove"
   ],
   "metadata": {
    "collapsed": false,
    "pycharm": {
     "name": "#%%\n"
    }
   },
   "execution_count": null,
   "outputs": []
  }
 ],
 "metadata": {
  "kernelspec": {
   "display_name": "Python 3",
   "language": "python",
   "name": "python3"
  },
  "language_info": {
   "codemirror_mode": {
    "name": "ipython",
    "version": 2
   },
   "file_extension": ".py",
   "mimetype": "text/x-python",
   "name": "python",
   "nbconvert_exporter": "python",
   "pygments_lexer": "ipython2",
   "version": "2.7.6"
  }
 },
 "nbformat": 4,
 "nbformat_minor": 0
}